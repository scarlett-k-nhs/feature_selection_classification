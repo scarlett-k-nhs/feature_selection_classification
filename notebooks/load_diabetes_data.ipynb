{
 "cells": [
  {
   "cell_type": "code",
   "execution_count": null,
   "id": "c0c5804f",
   "metadata": {},
   "outputs": [],
   "source": [
    "#!pip install ucimlrepo scikit-learn"
   ]
  },
  {
   "cell_type": "code",
   "execution_count": 1,
   "id": "c18cb15c",
   "metadata": {},
   "outputs": [],
   "source": [
    "\n",
    "import pandas as pd\n",
    "from ucimlrepo import fetch_ucirepo\n",
    "from sklearn.utils import resample"
   ]
  },
  {
   "cell_type": "code",
   "execution_count": null,
   "id": "6a1e7d76",
   "metadata": {},
   "outputs": [],
   "source": [
    "def load_diabetes_df():\n",
    "    # Fetch dataset\n",
    "    diabetes = fetch_ucirepo(id=891)\n",
    "\n",
    "    # Extract features and target\n",
    "    X = diabetes.data.features\n",
    "    y = diabetes.data.targets\n",
    "\n",
    "    # Ensure target column has a consistent name\n",
    "    target_col = y.columns[0]\n",
    "\n",
    "    # Combine into one DataFrame\n",
    "    df = pd.concat([X, y], axis=1)\n",
    "\n",
    "    # --- Handle class imbalance (downsample majority) ---\n",
    "    class_counts = df[target_col].value_counts()\n",
    "    majority_class = class_counts.idxmax()\n",
    "    minority_class = class_counts.idxmin()\n",
    "\n",
    "    df_majority = df[df[target_col] == majority_class]\n",
    "    df_minority = df[df[target_col] == minority_class]\n",
    "\n",
    "    # Downsample majority to match minority count\n",
    "    df_majority_downsampled = resample(\n",
    "        df_majority,\n",
    "        replace=False, \n",
    "        n_samples=len(df_minority), \n",
    "        random_state=42\n",
    "    )\n",
    "\n",
    "    # Combine downsampled majority and minority\n",
    "    df_balanced = pd.concat([df_majority_downsampled, df_minority])\n",
    "\n",
    "    # Shuffle rows\n",
    "    df_balanced = df_balanced.sample(frac=1, random_state=42).reset_index(drop=True)\n",
    "\n",
    "    # Get feature columns\n",
    "    feature_cols = [col for col in df_balanced.columns if col != target_col]\n",
    "\n",
    "    return df_balanced, feature_cols, target_col"
   ]
  },
  {
   "cell_type": "code",
   "execution_count": 3,
   "id": "4f0ca261",
   "metadata": {},
   "outputs": [],
   "source": [
    "df, feature_cols, target_col = load_diabetes_df()"
   ]
  },
  {
   "cell_type": "code",
   "execution_count": 5,
   "id": "1df552b9",
   "metadata": {},
   "outputs": [],
   "source": [
    "df.to_csv(\"../data/balanced_df.csv\")"
   ]
  }
 ],
 "metadata": {
  "kernelspec": {
   "display_name": ".venv",
   "language": "python",
   "name": "python3"
  },
  "language_info": {
   "codemirror_mode": {
    "name": "ipython",
    "version": 3
   },
   "file_extension": ".py",
   "mimetype": "text/x-python",
   "name": "python",
   "nbconvert_exporter": "python",
   "pygments_lexer": "ipython3",
   "version": "3.12.1"
  }
 },
 "nbformat": 4,
 "nbformat_minor": 5
}
