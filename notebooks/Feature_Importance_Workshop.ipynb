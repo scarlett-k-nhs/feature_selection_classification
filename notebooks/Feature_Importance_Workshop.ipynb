{
 "cells": [
  {
   "cell_type": "code",
   "execution_count": null,
   "metadata": {
    "id": "LAcYD6jlb5P-"
   },
   "outputs": [],
   "source": [
    "!pip install boruta mrmr_selection skrebate kydavra ucimlrepo"
   ]
  },
  {
   "cell_type": "markdown",
   "metadata": {
    "id": "aZXs6qJRkSrX"
   },
   "source": [
    "# Feature Importance Workshop"
   ]
  },
  {
   "cell_type": "code",
   "execution_count": null,
   "metadata": {
    "id": "rhVnufvwjyYg"
   },
   "outputs": [],
   "source": [
    "import os\n",
    "import pandas as pd\n",
    "import numpy as np\n",
    "import textwrap\n",
    "import matplotlib.pyplot as plt\n",
    "import seaborn as sns\n",
    "from ucimlrepo import fetch_ucirepo\n",
    "from skrebate import ReliefF\n",
    "import xgboost as xgb\n",
    "from sklearn.model_selection import train_test_split\n",
    "from sklearn.preprocessing import LabelEncoder\n",
    "from sklearn.feature_selection import SelectKBest, chi2, f_classif, mutual_info_classif, RFE, SequentialFeatureSelector, SelectFromModel\n",
    "from sklearn.metrics import accuracy_score, roc_auc_score, precision_score, recall_score, f1_score, classification_report\n",
    "from sklearn.impute import SimpleImputer\n",
    "import shap\n",
    "import time\n",
    "from boruta import BorutaPy\n",
    "from mrmr import mrmr_classif\n",
    "from kydavra import ReliefFSelector\n",
    "from sklearn.inspection import permutation_importance"
   ]
  },
  {
   "cell_type": "markdown",
   "metadata": {
    "id": "ifEhUSAaEagD"
   },
   "source": [
    "# The Task\n",
    "\n",
    "In this workshop, you will use XGBoost to classify individuals with diabetes. The main task is reduce the number of features in the model while maximising the f1 score.\n",
    "\n",
    "### Data Preparation:\n",
    "\n",
    "* **Train and validation:** Used for model training and feature selection.\n",
    "* **Test:** A set is held out for final performance evaluation.\n",
    "\n",
    "### Feature Selection Techniques to Try:\n",
    "* Model-based Importance:\n",
    "  * XGBoost built-in feature importance\n",
    "  * Permutation importance\n",
    "  * SHAP values\n",
    "* Wrapper Methods for Feature Selection (Iterative):\n",
    "  * Recursive Feature Elimination (RFE)\n",
    "  * Boruta algorithm\n",
    "  * Sequential feature selection\n",
    "* Statistical Methods:\n",
    "  * ANOVA F-test\n",
    "  * Chi-squared\n",
    "  * Mutual Information\n",
    "  * Minimum Redundancy Maximum Relevance (MRMR)\n",
    "\n",
    "### Workflow:\n",
    "\n",
    "1. Apply feature selection methods to identify top features.\n",
    "2. Train XGBoost on selected features using train & validation sets.\n",
    "3. Evaluate model on test set using metrics like AUC, Recall, Accuracy, F1-score.\n",
    "4. Record feature subset and performance metrics in a summary table.\n"
   ]
  },
  {
   "cell_type": "markdown",
   "metadata": {
    "id": "qTKWPg2wkoKf"
   },
   "source": [
    "## Dataset Overview: CDC Diabetes Health Indicators\n",
    "\n",
    "This dataset comprises healthcare statistics and lifestyle survey information about individuals in the United States. It was collected by the Centers for Disease Control and Prevention (CDC) and is publicly available through the UCI Machine Learning Repository."
   ]
  },
  {
   "cell_type": "code",
   "execution_count": null,
   "metadata": {
    "id": "V6lF6Ji2CXaP"
   },
   "outputs": [],
   "source": [
    "pd.set_option('display.max_colwidth', None)\n",
    "pd.set_option('display.width', 80)\n",
    "pd.set_option('display.max_columns', None)\n",
    "\n",
    "df_info = fetch_ucirepo(id=891)[\"variables\"]\n",
    "df_info"
   ]
  },
  {
   "cell_type": "markdown",
   "metadata": {
    "id": "JDmZKpDnV623"
   },
   "source": [
    "Below loads the same dataframe, but the classes have been balanced."
   ]
  },
  {
   "cell_type": "code",
   "execution_count": null,
   "metadata": {
    "id": "4Xq4XtL3ETXs"
   },
   "outputs": [],
   "source": [
    "url = \"https://github.com/scarlett-k-nhs/feature_selection_classification/blob/main/data/balanced_df.csv?raw=true\"\n",
    "df = pd.read_csv(url)\n",
    "df.head()\n",
    "\n",
    "# This creates your dataframe to record runs in.\n",
    "output_df = pd.DataFrame()"
   ]
  },
  {
   "cell_type": "markdown",
   "metadata": {
    "id": "WTtnzgAtW7Ts"
   },
   "source": [
    "This defines your train, test and validation datasets"
   ]
  },
  {
   "cell_type": "code",
   "execution_count": null,
   "metadata": {
    "id": "MWJZwzbxW4Jk"
   },
   "outputs": [],
   "source": [
    "feature_cols = [\n",
    "                'HighBP',\n",
    "                'HighChol',\n",
    "                'CholCheck',\n",
    "                'BMI',\n",
    "                'Smoker',\n",
    "                'Stroke',\n",
    "                'HeartDiseaseorAttack',\n",
    "                'PhysActivity',\n",
    "                'Fruits',\n",
    "                'Veggies',\n",
    "                'HvyAlcoholConsump',\n",
    "                'AnyHealthcare',\n",
    "                'NoDocbcCost',\n",
    "                'GenHlth',\n",
    "                'MentHlth',\n",
    "                'PhysHlth',\n",
    "                'DiffWalk',\n",
    "                'Sex',\n",
    "                'Age',\n",
    "                'Education',\n",
    "                'Income'\n",
    "                ]\n",
    "\n",
    "target_col = \"Diabetes_binary\"\n",
    "\n",
    "X = df[feature_cols]\n",
    "y = df[target_col]\n",
    "\n",
    "X_train, X_test, y_train, y_test = train_test_split(\n",
    "    X, y, test_size=0.3, random_state=42, stratify=y\n",
    ")\n",
    "\n",
    "X_test, X_val, y_test, y_val = train_test_split(\n",
    "    X_test, y_test, test_size=0.5, random_state=42, stratify=y_test\n",
    ")"
   ]
  },
  {
   "cell_type": "markdown",
   "metadata": {
    "id": "6CNYHHtIXtSr"
   },
   "source": [
    "## Record a Run\n",
    "\n",
    "Use this cell to record all of your runs from using the various feature selection techniques in the feature_importance_cheatsheet.\n",
    "\n",
    "1. **Base Model**: Run this cell first with all features selected to get baseline metrics. Set comment = \"All Features Selected\".\n",
    "2. **Feature Selection Runs**: After identifying important features (e.g., via SHAP, permutation importance, Boruta), update selected_features and change comment to reflect the source.\n",
    "3. **Recording Results:** Each run appends a row to output_df with the selected features, their count, training time, and performance metrics (Recall, AUC, F1, Precision, Accuracy)."
   ]
  },
  {
   "cell_type": "code",
   "execution_count": null,
   "metadata": {
    "id": "YEezdTbsz0zc"
   },
   "outputs": [],
   "source": [
    "comment = \"All Features Selected\" # Change this to reflect the decision made e.g. Model embeded importance of cover has been run.\n",
    "\n",
    "# Change this to reflect which features have been selected.\n",
    "selected_features = [\n",
    "                'HighBP',\n",
    "                'HighChol',\n",
    "                'CholCheck',\n",
    "                'BMI',\n",
    "                'Smoker',\n",
    "                'Stroke',\n",
    "                'HeartDiseaseorAttack',\n",
    "                'PhysActivity',\n",
    "                'Fruits',\n",
    "                'Veggies',\n",
    "                'HvyAlcoholConsump',\n",
    "                'AnyHealthcare',\n",
    "                'NoDocbcCost',\n",
    "                'GenHlth',\n",
    "                'MentHlth',\n",
    "                'PhysHlth',\n",
    "                'DiffWalk',\n",
    "                'Sex',\n",
    "                'Age',\n",
    "                'Education',\n",
    "                'Income'\n",
    "                ]\n",
    "\n",
    "# Train XGBoost model and record training time\n",
    "start_time = time.time()\n",
    "model = xgb.XGBClassifier(\n",
    "    n_estimators=500,\n",
    "    eval_metric='logloss',\n",
    "    random_state=42,\n",
    "    seed=42\n",
    ")\n",
    "model.fit(X_train[selected_features], y_train)\n",
    "train_time = time.time() - start_time\n",
    "\n",
    "# Test set predictions & metrics\n",
    "y_pred_test = model.predict(X_test[selected_features])\n",
    "y_pred_proba_test = model.predict_proba(X_test[selected_features])[:, 1]\n",
    "\n",
    "auc_test = roc_auc_score(y_test, y_pred_proba_test)\n",
    "acc_test = accuracy_score(y_test, y_pred_test)\n",
    "precision_test = precision_score(y_test, y_pred_test)\n",
    "recall_test = recall_score(y_test, y_pred_test)\n",
    "f1_test = f1_score(y_test, y_pred_test)\n",
    "\n",
    "# Append results to output_df\n",
    "output_df = pd.concat([\n",
    "    output_df,\n",
    "    pd.DataFrame([{\n",
    "        'Comment': comment,\n",
    "        'Selected_Features': selected_features,\n",
    "        'Num_Features': len(selected_features),\n",
    "        'Train_Time(s)': train_time,\n",
    "        'Recall': recall_test,\n",
    "        'AUC': auc_test,\n",
    "        'F1': f1_test,\n",
    "        'Precision': precision_test,\n",
    "        'Accuracy': acc_test\n",
    "    }])\n",
    "], ignore_index=True)\n",
    "\n",
    "# Display the updated dataframe\n",
    "output_df\n",
    "\n"
   ]
  },
  {
   "cell_type": "markdown",
   "metadata": {
    "id": "0sBmj-htWUXV"
   },
   "source": [
    "## Feature Selection Code\n",
    "\n",
    "Bring the Feature Selection Code from the Cheatsheet to work out what features you would like to impute into the model."
   ]
  },
  {
   "cell_type": "code",
   "execution_count": null,
   "metadata": {
    "id": "A3zzyzMoZPPJ"
   },
   "outputs": [],
   "source": []
  }
 ],
 "metadata": {
  "colab": {
   "authorship_tag": "ABX9TyPrqk6OiZtjsS1cY0ytTTkW",
   "provenance": [
    {
     "file_id": "1_A0ZdToedLWaCujvRc7Ve8VSrQJRh43g",
     "timestamp": 1757068473967
    },
    {
     "file_id": "1v5VhohD2bCbD6bCE88sXINUVDmCNVPf1",
     "timestamp": 1757066823048
    },
    {
     "file_id": "1GtQQs18wNPXgvOZ0aBJ9ds8TNlVVGNJm",
     "timestamp": 1757001004589
    },
    {
     "file_id": "1ooRiHFY5Fz-OxESMtjJh5M7X1qv-55li",
     "timestamp": 1756896087546
    },
    {
     "file_id": "1nF85w34C2X4teAjyUUnMo6QD_xugdPNR",
     "timestamp": 1756893449242
    }
   ]
  },
  "kernelspec": {
   "display_name": "Python 3",
   "name": "python3"
  },
  "language_info": {
   "name": "python"
  }
 },
 "nbformat": 4,
 "nbformat_minor": 0
}
